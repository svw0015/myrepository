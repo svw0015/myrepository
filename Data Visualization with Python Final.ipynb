{
  "nbformat": 4,
  "nbformat_minor": 0,
  "metadata": {
    "kernelspec": {
      "display_name": "Python 3",
      "language": "python",
      "name": "python3"
    },
    "language_info": {
      "codemirror_mode": {
        "name": "ipython",
        "version": 3
      },
      "file_extension": ".py",
      "mimetype": "text/x-python",
      "name": "python",
      "nbconvert_exporter": "python",
      "pygments_lexer": "ipython3",
      "version": "3.8.5"
    },
    "colab": {
      "name": "this crappy final(2).ipynb",
      "provenance": [],
      "toc_visible": true,
      "include_colab_link": true
    }
  },
  "cells": [
    {
      "cell_type": "markdown",
      "metadata": {
        "id": "view-in-github",
        "colab_type": "text"
      },
      "source": [
        "<a href=\"https://colab.research.google.com/github/svw0015/myrepository/blob/main/Data%20Visualization%20with%20Python%20Final.ipynb\" target=\"_parent\"><img src=\"https://colab.research.google.com/assets/colab-badge.svg\" alt=\"Open In Colab\"/></a>"
      ]
    },
    {
      "cell_type": "markdown",
      "metadata": {
        "id": "l01V97rpgeP9"
      },
      "source": [
        "<center>\n",
        "    <img src=\"https://cf-courses-data.s3.us.cloud-object-storage.appdomain.cloud/IBMDeveloperSkillsNetwork-DV0101EN-SkillsNetwork/labs/Module%204/logo.png\" width=\"300\" alt=\"cognitiveclass.ai logo\" />\n",
        "</center>\n"
      ]
    },
    {
      "cell_type": "markdown",
      "metadata": {
        "id": "ABGVPF_9geQD"
      },
      "source": [
        "# Assignment\n",
        "\n",
        "-   [Story](#story)\n",
        "-   [Components of the report items](#components-of-the-report-items)\n",
        "-   [Expected layout](#expected-layout)\n",
        "-   [Requirements to create the dashboard](#requirements-to-create-the-dashboard)\n",
        "-   [What is new in this exercise compared to other labs?](#what-is-new-in-this-exercise-compared-to-other-labs?)\n",
        "-   [Review](#review)\n",
        "-   [Hints to complete TODOs](#hints-to-complete-todos)\n",
        "-   [Application](#application)\n",
        "\n",
        "## Story:\n",
        "\n",
        "As a data analyst, you have been given a task to monitor and report US domestic airline flights performance. Goal is to analyze the performance of the reporting airline to improve fight reliability thereby improving customer relaibility.\n",
        "\n",
        "Below are the key report items,\n",
        "\n",
        "-   Yearly airline performance report \n",
        "-   Yearly average flight delay statistics\n",
        "\n",
        "_NOTE:_ Year range is between 2005 and 2020.\n",
        "\n",
        "## Components of the report items\n",
        "\n",
        "1.  Yearly airline performance report \n",
        "\n",
        "    For the chosen year provide,\n",
        "\n",
        "    -   Number of flights under different cancellation categories using bar chart.\n",
        "    -   Average flight time by reporting airline using line chart.\n",
        "    -   Percentage of diverted airport landings per reporting airline using pie chart.\n",
        "    -   Number of flights flying from each state using choropleth map.\n",
        "    -   Number of flights flying to each state from each reporting airline using treemap chart.\n",
        "2.  Yearly average flight delay statistics\n",
        "\n",
        "    For the chosen year provide,\n",
        "\n",
        "    -   Monthly average carrier delay by reporting airline for the given year.\n",
        "    -   Monthly average weather delay by reporting airline for the given year.\n",
        "    -   Monthly average natioanl air system delay by reporting airline for the given year.\n",
        "    -   Monthly average security delay by reporting airline for the given year.\n",
        "    -   Monthly average late aircraft delay by reporting airline for the given year.\n",
        "\n",
        "    _NOTE:_ You have worked created the same dashboard components in `Flight Delay Time Statistics Dashboard` section. We will be reusing the same.\n",
        "\n",
        "## Expected Layout\n",
        "\n",
        "<center>\n",
        "    <img src=\"https://cf-courses-data.s3.us.cloud-object-storage.appdomain.cloud/IBMDeveloperSkillsNetwork-DV0101EN-SkillsNetwork/labs/Module%205/Layout.png\" width=\"2000\" alt=\"cognitiveclass.ai logo\"/>\n",
        "</center>\n"
      ]
    },
    {
      "cell_type": "markdown",
      "metadata": {
        "id": "WHAm4DMfgeQE"
      },
      "source": [
        "## Requirements to create the dashboard\n",
        "\n",
        "-   Create dropdown using the reference [here](https://dash.plotly.com/dash-core-components/dropdown?cm_mmc=Email_Newsletter-_-Developer_Ed%2BTech-_-WW_WW-_-SkillsNetwork-Courses-IBMDeveloperSkillsNetwork-DV0101EN-SkillsNetwork-20297740&cm_mmca1=000026UJ&cm_mmca2=10006555&cm_mmca3=M12345678&cvosrc=email.Newsletter.M12345678&cvo_campaign=000026UJ&cm_mmc=Email_Newsletter-_-Developer_Ed%2BTech-_-WW_WW-_-SkillsNetwork-Courses-IBMDeveloperSkillsNetwork-DV0101EN-SkillsNetwork-20297740&cm_mmca1=000026UJ&cm_mmca2=10006555&cm_mmca3=M12345678&cvosrc=email.Newsletter.M12345678&cvo_campaign=000026UJ)\n",
        "-   Create two HTML divisions that can accomodate two components (in one division) side by side. One is HTML heading and the other one is dropdown.\n",
        "-   Add graph components. \n",
        "-   Callback function to compute data, create graph and return to the layout.\n"
      ]
    },
    {
      "cell_type": "markdown",
      "metadata": {
        "id": "m5Mp3w2ogeQE"
      },
      "source": [
        "## What's new in this exercise compared to other labs?\n",
        "\n",
        "-   Make sure the layout is clean without any defualt graphs or graph layouts. We will do this by 3 changes:\n",
        "\n",
        "    1.  Add `app.config.suppress_callback_exceptions = True` right after `app = JupyterDash(__name__)`.\n",
        "    2.  Having empty html.Div and use the callback to Output the dcc.graph as the Children of that Div. \n",
        "    3.  Add a state variable in addition to callback decorator input and output parameter. This will allow us to pass extra values without firing the callbacks. \n",
        "        Here, we need to pass two inputs `chart type` and `year`. Input is read only after user entering all the information.\n",
        "\n",
        "-   Use new html display style `flex` to arrange the dropdown menu with description.\n",
        "\n",
        "-   Update app run step to avoid getting error message before initiating callback.\n",
        "\n",
        "_NOTE:_ These steps are only for review.\n"
      ]
    },
    {
      "cell_type": "markdown",
      "metadata": {
        "id": "0Oww-B_qgeQE"
      },
      "source": [
        "## Review\n",
        "\n",
        "Search/Look for review to know how commands are used and computations are carried out. There are 7 review items.\n",
        "\n",
        "-   REVIEW1: Clear the layout and do not display exception till callback gets executed.\n",
        "-   REVIEW2: Dropdown creation.\n",
        "-   REVIEW3: Observe how we add an empty division and providing an id that will be updated during callback.\n",
        "-   REVIEW4: Holding output state till user enters all the form information. In this case, it will be chart type and year.\n",
        "-   REVIEW5: Number of flights flying from each state using choropleth\n",
        "-   REVIEW6: Return dcc.Graph component to the empty division\n",
        "-   REVIEW7: This covers chart type 2 and we have completed this exercise under Flight Delay Time Statistics Dashboard section\n",
        "\n",
        "## Hints to complete TODOs\n",
        "\n",
        "### TODO1\n",
        "\n",
        "Reference [link](https://dash.plotly.com/dash-html-components/h1?cm_mmc=Email_Newsletter-_-Developer_Ed%2BTech-_-WW_WW-_-SkillsNetwork-Courses-IBMDeveloperSkillsNetwork-DV0101EN-SkillsNetwork-20297740&cm_mmca1=000026UJ&cm_mmca2=10006555&cm_mmca3=M12345678&cvosrc=email.Newsletter.M12345678&cvo_campaign=000026UJ&cm_mmc=Email_Newsletter-_-Developer_Ed%2BTech-_-WW_WW-_-SkillsNetwork-Courses-IBMDeveloperSkillsNetwork-DV0101EN-SkillsNetwork-20297740&cm_mmca1=000026UJ&cm_mmca2=10006555&cm_mmca3=M12345678&cvosrc=email.Newsletter.M12345678&cvo_campaign=000026UJ)\n",
        "\n",
        "-   Provide title of the dash application title as `US Domestic Airline Flights Performance`.\n",
        "-   Make the heading center aligned, set color as `#503D36`, and font size as `24`.\n",
        "    Sample: style={'textAlign': 'left', 'color': '#000000', 'font-size': 0}\n",
        "\n",
        "### TODO2\n",
        "\n",
        "Reference [link](https://dash.plotly.com/dash-core-components/dropdown?cm_mmc=Email_Newsletter-_-Developer_Ed%2BTech-_-WW_WW-_-SkillsNetwork-Courses-IBMDeveloperSkillsNetwork-DV0101EN-SkillsNetwork-20297740&cm_mmca1=000026UJ&cm_mmca2=10006555&cm_mmca3=M12345678&cvosrc=email.Newsletter.M12345678&cvo_campaign=000026UJ)\n",
        "\n",
        "Create a dropdown menu and add two chart options to it.\n",
        "\n",
        "Parameters to be updated in `dcc.Dropdown`:\n",
        "\n",
        "-   Set `id` as `input-type`.\n",
        "-   Set `options` to list containing dictionaries with key as `label` and user provided value for labels in `value`. \n",
        "\n",
        "    _1st dictionary_\n",
        "\n",
        "    -   label: Yearly Airline Performance Report\n",
        "    -   value: OPT1\n",
        "\n",
        "    _2nd dictionary_\n",
        "\n",
        "    -   label: Yearly Airline Delay Report\n",
        "    -   value: OPT2\n",
        "-   Set placeholder to `Select a report type`.\n",
        "-   Set width as `80%`, padding as `3px`, font size as `20px`, text-align-last as `center` inside style parameter dictionary.\n",
        "\n",
        "#### Skeleton:\n",
        "\n",
        "```\n",
        "  dcc.Dropdown(id='....', \n",
        "                   options=[\n",
        "                           {'label': '....', 'value': '...'},\n",
        "                           {'label': '....', 'value': '...'}\n",
        "                           ],\n",
        "                  placeholder='....',\n",
        "                  style={....})\n",
        "```\n",
        "\n",
        "### TODO3\n",
        "\n",
        "Add a division with two empty divisions inside. For reference, observe how code under `REVIEW` has been structured.\n",
        "\n",
        "Provide division ids as `plot4` and `plot5`. Display style as `flex`.\n",
        "\n",
        "#### Skeleton\n",
        "\n",
        "```\n",
        "html.Div([\n",
        "         html.Div([ ], id='....'),\n",
        "         html.Div([ ], id='....')\n",
        "         ], style={....})\n",
        "```\n",
        "\n",
        "### TODO4\n",
        "\n",
        "Our layout has 5 outputs so we need to create 5 output components. Review how input components are constructured to fill in for output component.\n",
        "\n",
        "It is a list with 5 output parameters with component id and property. Here, the component property will be `children` as we have created empty division and passing in `dcc.Graph` after computation.\n",
        "\n",
        "Component ids will be `plot1` , `plot2`, `plot2`, `plot4`, and `plot5`.\n",
        "\n",
        "#### Skeleton\n",
        "\n",
        "```\n",
        "[Output(component_id='plot1', component_property='children'),\n",
        " Output(....),\n",
        " Output(....),\n",
        " Output(....),\n",
        " Output(....)]\n",
        "```\n",
        "\n",
        "### TODO5\n",
        "\n",
        "Deals with creating line plots using returned dataframes from the above step using `plotly.express`. Link for reference is [here](https://plotly.com/python/line-charts?cm_mmc=Email_Newsletter-_-Developer_Ed%2BTech-_-WW_WW-_-SkillsNetwork-Courses-IBMDeveloperSkillsNetwork-DV0101EN-SkillsNetwork-20297740&cm_mmca1=000026UJ&cm_mmca2=10006555&cm_mmca3=M12345678&cvosrc=email.Newsletter.M12345678&cvo_campaign=000026UJ)\n",
        "\n",
        "Average flight time by reporting airline\n",
        "\n",
        "-   Set figure name as `line_fig`, data as `line_data`, x as `Month`, y as `AirTime`, color as `Reporting_Airline` and `title` as `Average monthly flight time (minutes) by airline`.\n",
        "\n",
        "#### Skeleton\n",
        "\n",
        "```\n",
        "carrier_fig = px.line(avg_car, x='Month', y='CarrierDelay', color='Reporting_Airline', title='Average carrrier delay time (minutes) by airline')`\n",
        "```\n",
        "\n",
        ")\n",
        "\n",
        "### TODO6\n",
        "\n",
        "Deals with creating treemap plot using returned dataframes from the above step using `plotly.express`. Link for reference is [here](https://plotly.com/python/treemaps?cm_mmc=Email_Newsletter-_-Developer_Ed%2BTech-_-WW_WW-_-SkillsNetwork-Courses-IBMDeveloperSkillsNetwork-DV0101EN-SkillsNetwork-20297740&cm_mmca1=000026UJ&cm_mmca2=10006555&cm_mmca3=M12345678&cvosrc=email.Newsletter.M12345678&cvo_campaign=000026UJ)\n",
        "\n",
        "Number of flights flying to each state from each reporting airline\n",
        "\n",
        "-   Set figure name as `tree_fig`, data as `tree_data`, path as `['DestState', 'Reporting_Airline']`, values as `Flights`, colors as `Flights`, color_continuous_scale as `'RdBu'`, and title as `'Flight count by airline to destination state'`\n",
        "\n",
        "#### Skeleton\n",
        "\n",
        "```\n",
        "tree_fig = px.treemap(data, path=['...', '...'], \n",
        "                      values='...',\n",
        "                      color='...',\n",
        "                      color_continuous_scale='...',\n",
        "                      title='...'\n",
        "                )\n",
        "```\n"
      ]
    },
    {
      "cell_type": "markdown",
      "metadata": {
        "id": "Nwy7YPzGgeQI"
      },
      "source": [
        "## Application\n"
      ]
    },
    {
      "cell_type": "code",
      "metadata": {
        "colab": {
          "base_uri": "https://localhost:8080/"
        },
        "id": "M1fyNNBR_sex",
        "outputId": "a6b00ac3-7734-4771-e4ba-bc5acdc5267a"
      },
      "source": [
        "#!pip install dash==1.19.0\n",
        "#!pip install jupyter_dash\n",
        "!pip install dash jupyter_dash -U\n",
        "!pip install --upgrade plotpy"
      ],
      "execution_count": 1,
      "outputs": [
        {
          "output_type": "stream",
          "text": [
            "Collecting dash\n",
            "\u001b[?25l  Downloading https://files.pythonhosted.org/packages/d4/50/e7c2830168db186f84b7de2988543e974433a6cdb0a0b23d51c781e2b2ab/dash-1.20.0.tar.gz (77kB)\n",
            "\r\u001b[K     |████▏                           | 10kB 16.2MB/s eta 0:00:01\r\u001b[K     |████████▍                       | 20kB 7.5MB/s eta 0:00:01\r\u001b[K     |████████████▋                   | 30kB 8.2MB/s eta 0:00:01\r\u001b[K     |████████████████▉               | 40kB 7.3MB/s eta 0:00:01\r\u001b[K     |█████████████████████           | 51kB 4.5MB/s eta 0:00:01\r\u001b[K     |█████████████████████████▎      | 61kB 5.1MB/s eta 0:00:01\r\u001b[K     |█████████████████████████████▌  | 71kB 5.0MB/s eta 0:00:01\r\u001b[K     |████████████████████████████████| 81kB 3.5MB/s \n",
            "\u001b[?25hCollecting jupyter_dash\n",
            "  Downloading https://files.pythonhosted.org/packages/46/21/d3893ad0b7a7061115938d6c38f5862522d45c4199fb7e8fde0765781e13/jupyter_dash-0.4.0-py3-none-any.whl\n",
            "Requirement already satisfied, skipping upgrade: Flask>=1.0.4 in /usr/local/lib/python3.7/dist-packages (from dash) (1.1.2)\n",
            "Collecting flask-compress\n",
            "  Downloading https://files.pythonhosted.org/packages/c6/d5/69b13600230d24310b98a52da561113fc01a5c17acf77152761eef3e50f1/Flask_Compress-1.9.0-py3-none-any.whl\n",
            "Requirement already satisfied, skipping upgrade: plotly in /usr/local/lib/python3.7/dist-packages (from dash) (4.4.1)\n",
            "Collecting dash_renderer==1.9.1\n",
            "\u001b[?25l  Downloading https://files.pythonhosted.org/packages/5f/d3/d661a68b4ce71498d5c0c79617bce3d5fc884d4448c698f77c2247cd1b46/dash_renderer-1.9.1.tar.gz (1.0MB)\n",
            "\u001b[K     |████████████████████████████████| 1.0MB 6.9MB/s \n",
            "\u001b[?25hCollecting dash-core-components==1.16.0\n",
            "\u001b[?25l  Downloading https://files.pythonhosted.org/packages/f4/79/434e14d77dbf82b27f98df077936a424de254059d47152b0445b7116e97e/dash_core_components-1.16.0.tar.gz (3.5MB)\n",
            "\u001b[K     |████████████████████████████████| 3.5MB 12.1MB/s \n",
            "\u001b[?25hCollecting dash-html-components==1.1.3\n",
            "\u001b[?25l  Downloading https://files.pythonhosted.org/packages/8f/ca/7eeca4cae4e15cc6f7d0bc41a46368dd3fcdddc72aaa5bac61a8b92d541c/dash_html_components-1.1.3.tar.gz (82kB)\n",
            "\u001b[K     |████████████████████████████████| 92kB 8.5MB/s \n",
            "\u001b[?25hCollecting dash-table==4.11.3\n",
            "\u001b[?25l  Downloading https://files.pythonhosted.org/packages/97/f7/f4969a926f20a55d3e5970d01b85ff9ad510dba32de189e72dd8f4992740/dash_table-4.11.3.tar.gz (1.8MB)\n",
            "\u001b[K     |████████████████████████████████| 1.8MB 28.1MB/s \n",
            "\u001b[?25hRequirement already satisfied, skipping upgrade: future in /usr/local/lib/python3.7/dist-packages (from dash) (0.16.0)\n",
            "Collecting ansi2html\n",
            "  Downloading https://files.pythonhosted.org/packages/c6/85/3a46be84afbb16b392a138cd396117f438c7b2e91d8dc327621d1ae1b5dc/ansi2html-1.6.0-py3-none-any.whl\n",
            "Requirement already satisfied, skipping upgrade: ipython in /usr/local/lib/python3.7/dist-packages (from jupyter_dash) (5.5.0)\n",
            "Requirement already satisfied, skipping upgrade: ipykernel in /usr/local/lib/python3.7/dist-packages (from jupyter_dash) (4.10.1)\n",
            "Requirement already satisfied, skipping upgrade: retrying in /usr/local/lib/python3.7/dist-packages (from jupyter_dash) (1.3.3)\n",
            "Requirement already satisfied, skipping upgrade: requests in /usr/local/lib/python3.7/dist-packages (from jupyter_dash) (2.23.0)\n",
            "Requirement already satisfied, skipping upgrade: Jinja2>=2.10.1 in /usr/local/lib/python3.7/dist-packages (from Flask>=1.0.4->dash) (2.11.3)\n",
            "Requirement already satisfied, skipping upgrade: click>=5.1 in /usr/local/lib/python3.7/dist-packages (from Flask>=1.0.4->dash) (7.1.2)\n",
            "Requirement already satisfied, skipping upgrade: itsdangerous>=0.24 in /usr/local/lib/python3.7/dist-packages (from Flask>=1.0.4->dash) (1.1.0)\n",
            "Requirement already satisfied, skipping upgrade: Werkzeug>=0.15 in /usr/local/lib/python3.7/dist-packages (from Flask>=1.0.4->dash) (1.0.1)\n",
            "Collecting brotli\n",
            "\u001b[?25l  Downloading https://files.pythonhosted.org/packages/15/ea/5bd575511b37bbd1c794606a0a621e6feff8e96b7dd007a86a5d218b2d94/Brotli-1.0.9-cp37-cp37m-manylinux1_x86_64.whl (357kB)\n",
            "\u001b[K     |████████████████████████████████| 358kB 35.9MB/s \n",
            "\u001b[?25hRequirement already satisfied, skipping upgrade: six in /usr/local/lib/python3.7/dist-packages (from plotly->dash) (1.15.0)\n",
            "Requirement already satisfied, skipping upgrade: traitlets>=4.2 in /usr/local/lib/python3.7/dist-packages (from ipython->jupyter_dash) (5.0.5)\n",
            "Requirement already satisfied, skipping upgrade: pickleshare in /usr/local/lib/python3.7/dist-packages (from ipython->jupyter_dash) (0.7.5)\n",
            "Requirement already satisfied, skipping upgrade: simplegeneric>0.8 in /usr/local/lib/python3.7/dist-packages (from ipython->jupyter_dash) (0.8.1)\n",
            "Requirement already satisfied, skipping upgrade: pygments in /usr/local/lib/python3.7/dist-packages (from ipython->jupyter_dash) (2.6.1)\n",
            "Requirement already satisfied, skipping upgrade: decorator in /usr/local/lib/python3.7/dist-packages (from ipython->jupyter_dash) (4.4.2)\n",
            "Requirement already satisfied, skipping upgrade: setuptools>=18.5 in /usr/local/lib/python3.7/dist-packages (from ipython->jupyter_dash) (54.2.0)\n",
            "Requirement already satisfied, skipping upgrade: prompt-toolkit<2.0.0,>=1.0.4 in /usr/local/lib/python3.7/dist-packages (from ipython->jupyter_dash) (1.0.18)\n",
            "Requirement already satisfied, skipping upgrade: pexpect; sys_platform != \"win32\" in /usr/local/lib/python3.7/dist-packages (from ipython->jupyter_dash) (4.8.0)\n",
            "Requirement already satisfied, skipping upgrade: tornado>=4.0 in /usr/local/lib/python3.7/dist-packages (from ipykernel->jupyter_dash) (5.1.1)\n",
            "Requirement already satisfied, skipping upgrade: jupyter-client in /usr/local/lib/python3.7/dist-packages (from ipykernel->jupyter_dash) (5.3.5)\n",
            "Requirement already satisfied, skipping upgrade: chardet<4,>=3.0.2 in /usr/local/lib/python3.7/dist-packages (from requests->jupyter_dash) (3.0.4)\n",
            "Requirement already satisfied, skipping upgrade: urllib3!=1.25.0,!=1.25.1,<1.26,>=1.21.1 in /usr/local/lib/python3.7/dist-packages (from requests->jupyter_dash) (1.24.3)\n",
            "Requirement already satisfied, skipping upgrade: idna<3,>=2.5 in /usr/local/lib/python3.7/dist-packages (from requests->jupyter_dash) (2.10)\n",
            "Requirement already satisfied, skipping upgrade: certifi>=2017.4.17 in /usr/local/lib/python3.7/dist-packages (from requests->jupyter_dash) (2020.12.5)\n",
            "Requirement already satisfied, skipping upgrade: MarkupSafe>=0.23 in /usr/local/lib/python3.7/dist-packages (from Jinja2>=2.10.1->Flask>=1.0.4->dash) (1.1.1)\n",
            "Requirement already satisfied, skipping upgrade: ipython-genutils in /usr/local/lib/python3.7/dist-packages (from traitlets>=4.2->ipython->jupyter_dash) (0.2.0)\n",
            "Requirement already satisfied, skipping upgrade: wcwidth in /usr/local/lib/python3.7/dist-packages (from prompt-toolkit<2.0.0,>=1.0.4->ipython->jupyter_dash) (0.2.5)\n",
            "Requirement already satisfied, skipping upgrade: ptyprocess>=0.5 in /usr/local/lib/python3.7/dist-packages (from pexpect; sys_platform != \"win32\"->ipython->jupyter_dash) (0.7.0)\n",
            "Requirement already satisfied, skipping upgrade: pyzmq>=13 in /usr/local/lib/python3.7/dist-packages (from jupyter-client->ipykernel->jupyter_dash) (22.0.3)\n",
            "Requirement already satisfied, skipping upgrade: python-dateutil>=2.1 in /usr/local/lib/python3.7/dist-packages (from jupyter-client->ipykernel->jupyter_dash) (2.8.1)\n",
            "Requirement already satisfied, skipping upgrade: jupyter-core>=4.6.0 in /usr/local/lib/python3.7/dist-packages (from jupyter-client->ipykernel->jupyter_dash) (4.7.1)\n",
            "Building wheels for collected packages: dash, dash-renderer, dash-core-components, dash-html-components, dash-table\n",
            "  Building wheel for dash (setup.py) ... \u001b[?25l\u001b[?25hdone\n",
            "  Created wheel for dash: filename=dash-1.20.0-cp37-none-any.whl size=85834 sha256=22ed54a0763c39c47af2783152a9557efbe3d5b4bb04e1d10e1ce840c158bac2\n",
            "  Stored in directory: /root/.cache/pip/wheels/e6/33/41/ce361d0d1da277d2350f815b10f2ab1e331592d93ef2b07e29\n",
            "  Building wheel for dash-renderer (setup.py) ... \u001b[?25l\u001b[?25hdone\n",
            "  Created wheel for dash-renderer: filename=dash_renderer-1.9.1-cp37-none-any.whl size=1014875 sha256=e77166ebb57119d3606724f71086bb5398320e082374fff0e8de43f28f9ea160\n",
            "  Stored in directory: /root/.cache/pip/wheels/03/a9/c5/dd5815c601b0ede164c223ffd7bafebde716ca57de06ef8aec\n",
            "  Building wheel for dash-core-components (setup.py) ... \u001b[?25l\u001b[?25hdone\n",
            "  Created wheel for dash-core-components: filename=dash_core_components-1.16.0-cp37-none-any.whl size=3540993 sha256=bc5f289eb586e668b7a2a72a6ef9c9da0527320b16e735f6d3aefbf89a12a6be\n",
            "  Stored in directory: /root/.cache/pip/wheels/86/1e/8c/e87ebba30b73c20dcd641224274febc983af88ed0fd7712a07\n",
            "  Building wheel for dash-html-components (setup.py) ... \u001b[?25l\u001b[?25hdone\n",
            "  Created wheel for dash-html-components: filename=dash_html_components-1.1.3-cp37-none-any.whl size=319471 sha256=fe727520cc6f86c4281cf2c0b2869cfbcf2119f57a3997426e2845562ec6f683\n",
            "  Stored in directory: /root/.cache/pip/wheels/07/f9/6c/f9b73a6ae1b7f347a92dc240293cebc267b370ba2a80added2\n",
            "  Building wheel for dash-table (setup.py) ... \u001b[?25l\u001b[?25hdone\n",
            "  Created wheel for dash-table: filename=dash_table-4.11.3-cp37-none-any.whl size=1827619 sha256=46e90d1b24d3adfd501295d1657aab40e78ec3988eca12b09bde5afea00c434c\n",
            "  Stored in directory: /root/.cache/pip/wheels/51/9b/89/374be1bc250e28a15edbd657cf364f163e392ba5257bfd0e87\n",
            "Successfully built dash dash-renderer dash-core-components dash-html-components dash-table\n",
            "Installing collected packages: brotli, flask-compress, dash-renderer, dash-core-components, dash-html-components, dash-table, dash, ansi2html, jupyter-dash\n",
            "Successfully installed ansi2html-1.6.0 brotli-1.0.9 dash-1.20.0 dash-core-components-1.16.0 dash-html-components-1.1.3 dash-renderer-1.9.1 dash-table-4.11.3 flask-compress-1.9.0 jupyter-dash-0.4.0\n",
            "Collecting plotpy\n",
            "\u001b[?25l  Downloading https://files.pythonhosted.org/packages/36/75/596ce1d046ca1e0a87c3086c5c8465df6dda4ad466f5ef5004f6bbf045f7/plotpy-1.2.0.tar.gz (6.0MB)\n",
            "\u001b[K     |████████████████████████████████| 6.0MB 4.7MB/s \n",
            "\u001b[?25hRequirement already satisfied, skipping upgrade: numpy>=1.3 in /usr/local/lib/python3.7/dist-packages (from plotpy) (1.19.5)\n",
            "Requirement already satisfied, skipping upgrade: SciPy>=0.7 in /usr/local/lib/python3.7/dist-packages (from plotpy) (1.4.1)\n",
            "Requirement already satisfied, skipping upgrade: Pillow in /usr/local/lib/python3.7/dist-packages (from plotpy) (7.1.2)\n",
            "Collecting PythonQwt==0.9.0\n",
            "\u001b[?25l  Downloading https://files.pythonhosted.org/packages/5c/14/750106cef46cec2e0fb218b63091569e1b042088fa4c2d48c01579fb87d9/PythonQwt-0.9.0-py2.py3-none-any.whl (730kB)\n",
            "\u001b[K     |████████████████████████████████| 737kB 36.6MB/s \n",
            "\u001b[?25hCollecting h5py==2.8.0\n",
            "\u001b[?25l  Downloading https://files.pythonhosted.org/packages/4f/3f/724834613239667a92d3b8b6b8fdef1c93d6f57d008cacc46e6b9ebdc486/h5py-2.8.0-cp37-cp37m-manylinux1_x86_64.whl (2.8MB)\n",
            "\u001b[K     |████████████████████████████████| 2.8MB 43.6MB/s \n",
            "\u001b[?25hRequirement already satisfied, skipping upgrade: chardet in /usr/local/lib/python3.7/dist-packages (from plotpy) (3.0.4)\n",
            "Requirement already satisfied, skipping upgrade: QtPy>=1.3 in /usr/local/lib/python3.7/dist-packages (from PythonQwt==0.9.0->plotpy) (1.9.0)\n",
            "Requirement already satisfied, skipping upgrade: six in /usr/local/lib/python3.7/dist-packages (from h5py==2.8.0->plotpy) (1.15.0)\n",
            "Building wheels for collected packages: plotpy\n",
            "  Building wheel for plotpy (setup.py) ... \u001b[?25l\u001b[?25hdone\n",
            "  Created wheel for plotpy: filename=plotpy-1.2.0-cp37-cp37m-linux_x86_64.whl size=7380572 sha256=da87f6a1445fdf34818409e92e1fee955a418df62ab143ccdb8db68e07f90770\n",
            "  Stored in directory: /root/.cache/pip/wheels/77/d7/32/ae724b57597f6b11467482eccc29fd534134476b9acf155857\n",
            "Successfully built plotpy\n",
            "\u001b[31mERROR: tensorflow 2.4.1 has requirement h5py~=2.10.0, but you'll have h5py 2.8.0 which is incompatible.\u001b[0m\n",
            "Installing collected packages: PythonQwt, h5py, plotpy\n",
            "  Found existing installation: h5py 2.10.0\n",
            "    Uninstalling h5py-2.10.0:\n",
            "      Successfully uninstalled h5py-2.10.0\n",
            "Successfully installed PythonQwt-0.9.0 h5py-2.8.0 plotpy-1.2.0\n"
          ],
          "name": "stdout"
        }
      ]
    },
    {
      "cell_type": "code",
      "metadata": {
        "id": "KGpX6C9FkL9B"
      },
      "source": [
        "import pandas as pd\n",
        "import dash\n",
        "import dash_html_components as html\n",
        "import dash_core_components as dcc\n",
        "from dash.dependencies import Input, Output, State\n",
        "from jupyter_dash import JupyterDash\n",
        "import plotly.graph_objects as go\n",
        "import plotly.express as px\n",
        "from dash import no_update"
      ],
      "execution_count": 2,
      "outputs": []
    },
    {
      "cell_type": "code",
      "metadata": {
        "id": "1Jkju200geQJ"
      },
      "source": [
        "# Create a dash application\n",
        "app = JupyterDash(__name__)\n",
        "JupyterDash.infer_jupyter_proxy_config()"
      ],
      "execution_count": 3,
      "outputs": []
    },
    {
      "cell_type": "code",
      "metadata": {
        "id": "2i9SZMhdmJlF"
      },
      "source": [
        "JupyterDash.infer_jupyter_proxy_config()"
      ],
      "execution_count": 4,
      "outputs": []
    },
    {
      "cell_type": "code",
      "metadata": {
        "id": "eOV8WZVGmQnz"
      },
      "source": [
        "app.config.suppress_callback_exceptions = True "
      ],
      "execution_count": 5,
      "outputs": []
    },
    {
      "cell_type": "code",
      "metadata": {
        "id": "ahS4HdiugeQK"
      },
      "source": [
        "# Read the airline data into pandas dataframe\n",
        "airline_data =  pd.read_csv('https://cf-courses-data.s3.us.cloud-object-storage.appdomain.cloud/IBMDeveloperSkillsNetwork-DV0101EN-SkillsNetwork/Data%20Files/airline_data.csv', \n",
        "                            encoding = \"ISO-8859-1\",\n",
        "                            dtype={'Div1Airport': str, 'Div1TailNum': str, \n",
        "                                   'Div2Airport': str, 'Div2TailNum': str})\n",
        "\n",
        "\n",
        "# List of years \n",
        "year_list = [i for i in range(2005, 2021, 1)]"
      ],
      "execution_count": 6,
      "outputs": []
    },
    {
      "cell_type": "code",
      "metadata": {
        "id": "7ygAPAJFgeQK"
      },
      "source": [
        "def compute_data_choice_1(df):\n",
        "    # Cancellation Category Count\n",
        "    bar_data = df.groupby(['Month','CancellationCode'])['Flights'].sum().reset_index()\n",
        "    # Average flight time by reporting airline\n",
        "    line_data = df.groupby(['Month','Reporting_Airline'])['AirTime'].mean().reset_index()\n",
        "    # Diverted Airport Landings\n",
        "    div_data = df[df['DivAirportLandings'] != 0.0]\n",
        "    # Source state count\n",
        "    map_data = df.groupby(['OriginState'])['Flights'].sum().reset_index()\n",
        "    # Destination state count\n",
        "    tree_data = df.groupby(['DestState', 'Reporting_Airline'])['Flights'].sum().reset_index()\n",
        "    return bar_data, line_data, div_data, map_data, tree_data"
      ],
      "execution_count": 7,
      "outputs": []
    },
    {
      "cell_type": "code",
      "metadata": {
        "id": "u1MMB-iogeQL"
      },
      "source": [
        "def compute_data_choice_2(df):\n",
        "    # Compute delay averages\n",
        "    avg_car = df.groupby(['Month','Reporting_Airline'])['CarrierDelay'].mean().reset_index()\n",
        "    avg_weather = df.groupby(['Month','Reporting_Airline'])['WeatherDelay'].mean().reset_index()\n",
        "    avg_NAS = df.groupby(['Month','Reporting_Airline'])['NASDelay'].mean().reset_index()\n",
        "    avg_sec = df.groupby(['Month','Reporting_Airline'])['SecurityDelay'].mean().reset_index()\n",
        "    avg_late = df.groupby(['Month','Reporting_Airline'])['LateAircraftDelay'].mean().reset_index()\n",
        "    return avg_car, avg_weather, avg_NAS, avg_sec, avg_late "
      ],
      "execution_count": 8,
      "outputs": []
    },
    {
      "cell_type": "code",
      "metadata": {
        "id": "vSFCYi4JgeQL"
      },
      "source": [
        "# Application layout\n",
        "app.layout = html.Div(children=[ \n",
        "                                # TODO1: Add title to the dashboard\n",
        "                            html.H1(['US Domestic Airline Flights Performance'],style={'textAlign': 'center','color': '#503D36','font-size': 24}),\n",
        "    \n",
        "                                # REVIEW2: Dropdown creation\n",
        "                                # Create an outer division \n",
        "                              html.Div([\n",
        "                                    # Add an division\n",
        "                                  html.Div([\n",
        "                                        # Create an division for adding dropdown helper text for report type\n",
        "                                        html.Div(\n",
        "                                            [\n",
        "                                            html.H2('Report Type:', style={'margin-right': '2em'}),\n",
        "                                            ]\n",
        "                                        ),\n",
        "                                        # TODO2: Add a dropdown\n",
        "                                        dcc.Dropdown(id='input-type', \n",
        "                                                    options=[\n",
        "                                                        {'label': 'Yearly Airline Performance Report', 'Value': 'OPT1'},\n",
        "                                                        {'label': 'Yearly Airline Delay Report', 'Value': 'OPT2'}\n",
        "                                                    ],\n",
        "                                                    value={'OPT1','OPT2'}, \n",
        "                                                    clearable=False,\n",
        "                                                    placeholder='Select a report type',\n",
        "                                                    style={'width':'80%', 'padding': '3px', 'font-size': '20px', 'text-align-last' : 'center'}),\n",
        "                                    # Place them next to each other using the division style\n",
        "                                            ], style={'display':'flex'}),\n",
        "                               \n",
        "                                   # Add next division \n",
        "                                    html.Div([\n",
        "                                       # Create an division for adding dropdown helper text for choosing year\n",
        "                                          html.Div(\n",
        "                                                  [\n",
        "                                                  html.H2('Choose Year:', style={'margin-right': '2em'})\n",
        "                                                  ]   \n",
        "                                            ),\n",
        "                                        dcc.Dropdown(id='input-year', \n",
        "                                                     # Update dropdown values using list comphrehension\n",
        "                                                     options=[{'label': i, 'value': i} for i in year_list],\n",
        "                                                     placeholder =\"Select a year\",\n",
        "                                                     style={'width':'80%', 'padding':'3px', 'font-size': '20px', 'text-align-last' : 'center'}),\n",
        "                                            # Place them next to each other using the division style\n",
        "                                            ], style={'display': 'flex'})  \n",
        "                              ]),\n",
        "                                \n",
        "                                # Add Computed graphs\n",
        "                                # REVIEW3: Observe how we add an empty division and providing an id that will be updated during callback\n",
        "                              html.Div([ ], id='plot1'),\n",
        "    \n",
        "                              html.Div([\n",
        "                                      html.Div([ ], id='plot2'),\n",
        "                                      html.Div([ ], id='plot3')]),\n",
        "                                 \n",
        "                              # TODO3: Add a division with two empty divisions inside. See above disvision for example.\n",
        "                                html.Div([ \n",
        "                                      html.Div([ ], id='Plot4'),\n",
        "                                      html.Div([ ], id='Plot5')\n",
        "                                      ], style={'display': 'flex'})\n",
        "                        ])\n",
        "# Callback function definition\n",
        "# TODO4: Add 5 ouput components\n",
        "@app.callback(\n",
        "                [Output(component_id='plot1',component_property='children'),\n",
        "                Output(component_id='plot2',component_property='children'),\n",
        "                Output(component_id='plot3',component_property='children'),\n",
        "                Output(component_id='plot4',component_property='children'),\n",
        "                Output(component_id='plot5',component_property='children')],\n",
        "                [Input(component_id='input-type', component_property='value'),\n",
        "                Input(component_id='input-year', component_property='value')],\n",
        "               # REVIEW4: Holding output state till user enters all the form information. In this case, it will be chart type and year\n",
        "               [State(\"plot1\", \"children\"), State(\"plot2\", \"children\"),\n",
        "                State(\"plot3\", \"children\"), State(\"plot4\", \"children\"),\n",
        "                State(\"plot5\", \"children\")])\n",
        "\n",
        "# Add computation to callback function and return graph\n",
        "def get_graph (chart, year, children1, children2, children3, children4, children5): \n",
        "      \n",
        "        # Select data\n",
        "        df =  airline_data[airline_data['Year']==int(year)]\n",
        "       \n",
        "        if chart == 'data1':\n",
        "            # Compute required information for creating graph from the data\n",
        "            bar_data, line_data, div_data, map_data, tree_data = compute_data_choice_1(df)\n",
        "            \n",
        "            # Number of flights under different cancellation categories\n",
        "            bar_fig = px.bar(bar_data, x='Month', y='Flights', color='CancellationCode', title='Monthly Flight Cancellation')\n",
        "            \n",
        "            # TODO5: Average flight time by reporting airline\n",
        "            \n",
        "            line_fig = px.line(line_data, \n",
        "                    x='Month', \n",
        "                    y='AirTime', \n",
        "                    color='Reporting_Airline', \n",
        "                    title='Average monthy flight time (minutes) by airline')\n",
        "            # Percentage of diverted airport landings per reporting airline\n",
        "            pie_fig = px.pie(div_data, values='Flights', names='Reporting_Airline', title='% of flights by reporting airline')\n",
        "            \n",
        "            # REVIEW5: Number of flights flying from each state using choropleth\n",
        "            map_fig = px.choropleth(map_data,  # Input data\n",
        "                    locations='OriginState', \n",
        "                    color='Flights',  \n",
        "                    hover_data=['OriginState', 'Flights'], \n",
        "                    locationmode = 'USA-states', # Set to plot as US States\n",
        "                    color_continuous_scale='GnBu',\n",
        "                    range_color=[0, map_data['Flights'].max()]) \n",
        "            map_fig.update_layout(\n",
        "                    title_text = 'Number of flights from origin state', \n",
        "                    geo_scope='usa') # Plot only the USA instead of globe\n",
        "            \n",
        "            # TODO6: Number of flights flying to each state from each reporting airline\n",
        "            tree_fig = px.treemap(tree_data, path=['DestState','Reporting_Airline'],\n",
        "                     values='Flights',\n",
        "                     color='Flights',\n",
        "                     color_continuous_scale='RdBu',\n",
        "                     title='Flight count by airline to destination state'\n",
        "                              )\n",
        "            \n",
        "            # REVIEW6: Return dcc.Graph component to the empty division\n",
        "            return [dcc.Graph(figure=tree_fig), \n",
        "                    dcc.Graph(figure=pie_fig),\n",
        "                    dcc.Graph(figure=map_fig),\n",
        "                    dcc.Graph(figure=bar_fig),\n",
        "                    dcc.Graph(figure=line_fig)\n",
        "                   ]\n",
        "        else: \n",
        "            # REVIEW7: This covers chart type 2 and we have completed this exercise under Flight Delay Time Statistics Dashboard section\n",
        "            # Compute required information for creating graph from the data\n",
        "            avg_car, avg_weather, avg_NAS, avg_sec, avg_late = compute_data_choice_2(df)\n",
        "            \n",
        "            # Create graph\n",
        "            carrier_fig = px.line(avg_car, x='Month', y='CarrierDelay', color='Reporting_Airline', title='Average carrrier delay time (minutes) by airline')\n",
        "            weather_fig = px.line(avg_weather, x='Month', y='WeatherDelay', color='Reporting_Airline', title='Average weather delay time (minutes) by airline')\n",
        "            nas_fig = px.line(avg_NAS, x='Month', y='NASDelay', color='Reporting_Airline', title='Average NAS delay time (minutes) by airline')\n",
        "            sec_fig = px.line(avg_sec, x='Month', y='SecurityDelay', color='Reporting_Airline', title='Average security delay time (minutes) by airline')\n",
        "            late_fig = px.line(avg_late, x='Month', y='LateAircraftDelay', color='Reporting_Airline', title='Average late aircraft delay time (minutes) by airline')\n",
        "            \n",
        "            return[dcc.Graph(figure=carrier_fig), \n",
        "                   dcc.Graph(figure=weather_fig), \n",
        "                   dcc.Graph(figure=nas_fig), \n",
        "                   dcc.Graph(figure=sec_fig), \n",
        "                   dcc.Graph(figure=late_fig)]"
      ],
      "execution_count": 9,
      "outputs": []
    },
    {
      "cell_type": "code",
      "metadata": {
        "colab": {
          "base_uri": "https://localhost:8080/",
          "height": 705
        },
        "id": "SqxKWu_pgeQL",
        "outputId": "9f1599f9-bd34-4b20-805c-ba0f6303de2c"
      },
      "source": [
        "# Run the app\n",
        "if __name__ == '__main__':\n",
        "    # REVIEW8: Adding dev_tools_ui=False, dev_tools_props_check=False can prevent error appearing before calling callback function\n",
        "    app.run_server(mode=\"inline\",host=\"localhost\", port=8099, debug=False, dev_tools_ui=False, dev_tools_props_check=False)"
      ],
      "execution_count": 10,
      "outputs": [
        {
          "output_type": "stream",
          "text": [
            " * Running on http://localhost:8099/ (Press CTRL+C to quit)\n",
            "127.0.0.1 - - [22/Apr/2021 14:38:46] \"\u001b[37mGET /_alive_24ceca56-8f2d-4fc3-8d6a-a3815e796756 HTTP/1.1\u001b[0m\" 200 -\n"
          ],
          "name": "stderr"
        },
        {
          "output_type": "display_data",
          "data": {
            "application/javascript": [
              "(async (port, path, width, height, cache, element) => {\n",
              "    if (!google.colab.kernel.accessAllowed && !cache) {\n",
              "      return;\n",
              "    }\n",
              "    element.appendChild(document.createTextNode(''));\n",
              "    const url = await google.colab.kernel.proxyPort(port, {cache});\n",
              "    const iframe = document.createElement('iframe');\n",
              "    iframe.src = url + path;\n",
              "    iframe.height = height;\n",
              "    iframe.width = width;\n",
              "    iframe.style.border = 0;\n",
              "    element.appendChild(iframe);\n",
              "  })(8099, \"/\", \"100%\", 650, false, window.element)"
            ],
            "text/plain": [
              "<IPython.core.display.Javascript object>"
            ]
          },
          "metadata": {
            "tags": []
          }
        }
      ]
    },
    {
      "cell_type": "markdown",
      "metadata": {
        "id": "DaF2EghPgeQM"
      },
      "source": [
        "## Summary\n",
        "\n",
        "Congratulations for completing your dash and plotly assignment. \n",
        "\n",
        "More information about the libraries can be found [here](https://dash.plotly.com?cm_mmc=Email_Newsletter-_-Developer_Ed%2BTech-_-WW_WW-_-SkillsNetwork-Courses-IBMDeveloperSkillsNetwork-DV0101EN-SkillsNetwork-20297740&cm_mmca1=000026UJ&cm_mmca2=10006555&cm_mmca3=M12345678&cvosrc=email.Newsletter.M12345678&cvo_campaign=000026UJ&cm_mmc=Email_Newsletter-_-Developer_Ed%2BTech-_-WW_WW-_-SkillsNetwork-Courses-IBMDeveloperSkillsNetwork-DV0101EN-SkillsNetwork-20297740&cm_mmca1=000026UJ&cm_mmca2=10006555&cm_mmca3=M12345678&cvosrc=email.Newsletter.M12345678&cvo_campaign=000026UJ)\n"
      ]
    },
    {
      "cell_type": "markdown",
      "metadata": {
        "id": "c8-5oIkMgeQM"
      },
      "source": [
        "## Author\n",
        "\n",
        "[Saishruthi Swaminathan](https://www.linkedin.com/in/saishruthi-swaminathan?cm_mmc=Email_Newsletter-_-Developer_Ed%2BTech-_-WW_WW-_-SkillsNetwork-Courses-IBMDeveloperSkillsNetwork-DV0101EN-SkillsNetwork-20297740&cm_mmca1=000026UJ&cm_mmca2=10006555&cm_mmca3=M12345678&cvosrc=email.Newsletter.M12345678&cvo_campaign=000026UJ) \n"
      ]
    },
    {
      "cell_type": "markdown",
      "metadata": {
        "id": "xBK_CzargeQN"
      },
      "source": [
        "## Changelog\n",
        "\n",
        "| Date       | Version | Changed by | Change Description                   |\n",
        "| ---------- | ------- | ---------- | ------------------------------------ |\n",
        "| 12-18-2020 | 1.0     | Nayef      | Added dataset link and upload to Git |\n"
      ]
    },
    {
      "cell_type": "markdown",
      "metadata": {
        "id": "UjkengfageQN"
      },
      "source": [
        "## <h3 align=\"center\"> © IBM Corporation 2020. All rights reserved. <h3/>\n"
      ]
    }
  ]
}